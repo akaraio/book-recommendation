{
 "cells": [
  {
   "cell_type": "code",
   "execution_count": null,
   "metadata": {
    "executionInfo": {
     "elapsed": 10941,
     "status": "ok",
     "timestamp": 1733591452089,
     "user": {
      "displayName": "akara",
      "userId": "03294495074658875410"
     },
     "user_tz": -120
    },
    "id": "bKZk2VBLGe7I"
   },
   "outputs": [],
   "source": [
    "import tensorflow as tf\n",
    "from tensorflow.keras.layers import Dense, Input, Embedding, Concatenate, Flatten\n",
    "from tensorflow.keras.models import Model\n",
    "from tensorflow.keras.optimizers import SGD, Adam\n",
    "\n",
    "from sklearn.utils import shuffle\n",
    "import pandas as pd\n",
    "import numpy as np\n",
    "import matplotlib.pyplot as plt"
   ]
  },
  {
   "cell_type": "code",
   "execution_count": null,
   "metadata": {
    "colab": {
     "base_uri": "https://localhost:8080/",
     "height": 719
    },
    "executionInfo": {
     "elapsed": 2302,
     "status": "ok",
     "timestamp": 1733591499378,
     "user": {
      "displayName": "akara",
      "userId": "03294495074658875410"
     },
     "user_tz": -120
    },
    "id": "HTT57y1TGh1i",
    "outputId": "ef9416d6-d6f0-4fe6-a0ce-07f33350d349"
   },
   "outputs": [],
   "source": [
    "df = pd.read_csv('data')\n",
    "df"
   ]
  },
  {
   "cell_type": "code",
   "execution_count": null,
   "metadata": {
    "colab": {
     "base_uri": "https://localhost:8080/",
     "height": 424
    },
    "executionInfo": {
     "elapsed": 268,
     "status": "ok",
     "timestamp": 1733591557246,
     "user": {
      "displayName": "akara",
      "userId": "03294495074658875410"
     },
     "user_tz": -120
    },
    "id": "a3I5rNGwGvX9",
    "outputId": "0362583c-3545-49c9-820c-5a717a1db1c3"
   },
   "outputs": [],
   "source": [
    "df_user = pd.read_csv('data')\n",
    "df_user"
   ]
  },
  {
   "cell_type": "code",
   "execution_count": null,
   "metadata": {
    "colab": {
     "base_uri": "https://localhost:8080/",
     "height": 424
    },
    "executionInfo": {
     "elapsed": 1140,
     "status": "ok",
     "timestamp": 1733594145124,
     "user": {
      "displayName": "akara",
      "userId": "03294495074658875410"
     },
     "user_tz": -120
    },
    "id": "oUc_pHxHHfGr",
    "outputId": "4aa40640-ca70-48af-813f-12aa7fe6dd21"
   },
   "outputs": [],
   "source": [
    "df_rating = pd.read_csv('data')\n",
    "df_rating"
   ]
  },
  {
   "cell_type": "code",
   "execution_count": null,
   "metadata": {
    "colab": {
     "base_uri": "https://localhost:8080/"
    },
    "executionInfo": {
     "elapsed": 995,
     "status": "ok",
     "timestamp": 1733591757957,
     "user": {
      "displayName": "akara",
      "userId": "03294495074658875410"
     },
     "user_tz": -120
    },
    "id": "Qa-LzfnGHuHS",
    "outputId": "1c81127f-5de2-4d8a-af17-079c62e7ba1c"
   },
   "outputs": [],
   "source": [
    "df_rating.info()"
   ]
  },
  {
   "cell_type": "code",
   "execution_count": null,
   "metadata": {
    "colab": {
     "base_uri": "https://localhost:8080/",
     "height": 178
    },
    "executionInfo": {
     "elapsed": 255,
     "status": "ok",
     "timestamp": 1733591785348,
     "user": {
      "displayName": "akara",
      "userId": "03294495074658875410"
     },
     "user_tz": -120
    },
    "id": "2MakLb1KHu8l",
    "outputId": "98bf4480-e0ad-4a23-ec94-ea57bc2d64fd"
   },
   "outputs": [],
   "source": [
    "df_rating.isna().sum()"
   ]
  },
  {
   "cell_type": "code",
   "execution_count": null,
   "metadata": {
    "colab": {
     "base_uri": "https://localhost:8080/",
     "height": 424
    },
    "executionInfo": {
     "elapsed": 368,
     "status": "ok",
     "timestamp": 1733594149035,
     "user": {
      "displayName": "akara",
      "userId": "03294495074658875410"
     },
     "user_tz": -120
    },
    "id": "IXNP1r-hQth9",
    "outputId": "43b0b9cb-0a43-4f73-e3b6-779a842a8c1b"
   },
   "outputs": [],
   "source": [
    "df_rating['User-ID'] = pd.Categorical(df_rating['User-ID'])\n",
    "df_rating['new_user'] = df_rating['User-ID'].cat.codes\n",
    "df_rating"
   ]
  },
  {
   "cell_type": "code",
   "execution_count": null,
   "metadata": {
    "colab": {
     "base_uri": "https://localhost:8080/",
     "height": 424
    },
    "executionInfo": {
     "elapsed": 1312,
     "status": "ok",
     "timestamp": 1733594155471,
     "user": {
      "displayName": "akara",
      "userId": "03294495074658875410"
     },
     "user_tz": -120
    },
    "id": "CY6kTMIFH1yl",
    "outputId": "19c8c257-272c-4435-a22d-06fb02180476"
   },
   "outputs": [],
   "source": [
    "df_rating['ISBN'] = pd.Categorical(df_rating['ISBN'])\n",
    "df_rating['new_ISBN'] = df_rating['ISBN'].cat.codes\n",
    "df_rating"
   ]
  },
  {
   "cell_type": "code",
   "execution_count": null,
   "metadata": {
    "executionInfo": {
     "elapsed": 256,
     "status": "ok",
     "timestamp": 1733594167690,
     "user": {
      "displayName": "akara",
      "userId": "03294495074658875410"
     },
     "user_tz": -120
    },
    "id": "KIOJjBx8Ihcr"
   },
   "outputs": [],
   "source": [
    "user_idx = df_rating['new_user'].values\n",
    "book_idx = df_rating['new_ISBN'].values\n",
    "ratings = df_rating['Book-Rating'].values"
   ]
  },
  {
   "cell_type": "code",
   "execution_count": null,
   "metadata": {
    "executionInfo": {
     "elapsed": 479,
     "status": "ok",
     "timestamp": 1733594172556,
     "user": {
      "displayName": "akara",
      "userId": "03294495074658875410"
     },
     "user_tz": -120
    },
    "id": "BC9AVCpQI3JS"
   },
   "outputs": [],
   "source": [
    "N = len(set(user_idx))\n",
    "M = len(set(book_idx))\n",
    "K = 10"
   ]
  },
  {
   "cell_type": "code",
   "execution_count": null,
   "metadata": {
    "executionInfo": {
     "elapsed": 257,
     "status": "ok",
     "timestamp": 1733594874638,
     "user": {
      "displayName": "akara",
      "userId": "03294495074658875410"
     },
     "user_tz": -120
    },
    "id": "ftEs_XepI99E"
   },
   "outputs": [],
   "source": [
    "user_idx, book_idx, ratings = shuffle(user_idx, book_idx, ratings)\n",
    "\n",
    "ntrain = int(0.8 *len(ratings))\n",
    "\n",
    "train_user = user_idx[:ntrain]\n",
    "train_book = book_idx[:ntrain]\n",
    "train_ratings = ratings[:ntrain]\n",
    "\n",
    "test_user = user_idx[ntrain:]\n",
    "test_book = book_idx[ntrain:]\n",
    "test_ratings = ratings[ntrain:]\n",
    "\n",
    "# ratings_avg = ratings.mean()\n",
    "# train_ratings = train_ratings - ratings_avg\n",
    "# test_ratings = test_ratings - ratings_avg"
   ]
  },
  {
   "cell_type": "code",
   "execution_count": null,
   "metadata": {
    "executionInfo": {
     "elapsed": 231,
     "status": "ok",
     "timestamp": 1733594191752,
     "user": {
      "displayName": "akara",
      "userId": "03294495074658875410"
     },
     "user_tz": -120
    },
    "id": "xBYvWsLEI5S6"
   },
   "outputs": [],
   "source": [
    "u = Input(shape=(1,))\n",
    "m = Input(shape=(1,))\n",
    "\n",
    "u_emb = Embedding(N, K)(u)\n",
    "m_emb = Embedding(M, K)(m)\n",
    "\n",
    "u_emb = Flatten()(u_emb)\n",
    "m_emb = Flatten()(m_emb)\n",
    "\n",
    "x = Concatenate()([u_emb, m_emb])\n",
    "x = Dense(1024, activation='relu')(x)\n",
    "x = Dense(1)(x)\n",
    "\n",
    "model = Model(inputs=[u, m], outputs=x)\n",
    "model.compile(loss='mse', optimizer=SGD(learning_rate=0.08, momentum=0.9))"
   ]
  },
  {
   "cell_type": "code",
   "execution_count": null,
   "metadata": {
    "colab": {
     "base_uri": "https://localhost:8080/"
    },
    "executionInfo": {
     "elapsed": 328475,
     "status": "ok",
     "timestamp": 1733595207017,
     "user": {
      "displayName": "akara",
      "userId": "03294495074658875410"
     },
     "user_tz": -120
    },
    "id": "1uVSP5SSJGeD",
    "outputId": "ddecbcf7-ef19-490b-9858-aa9823062a73"
   },
   "outputs": [],
   "source": [
    "r = model.fit(x=[train_user, train_book], y=train_ratings, epochs=10, batch_size=1024, validation_data=([test_user, test_book], test_ratings))"
   ]
  },
  {
   "cell_type": "code",
   "execution_count": null,
   "metadata": {
    "colab": {
     "base_uri": "https://localhost:8080/",
     "height": 447
    },
    "executionInfo": {
     "elapsed": 642,
     "status": "ok",
     "timestamp": 1733595210914,
     "user": {
      "displayName": "akara",
      "userId": "03294495074658875410"
     },
     "user_tz": -120
    },
    "id": "TUTwO09YRd9B",
    "outputId": "465baca6-e959-4b3d-b4e1-f1068ba30b28"
   },
   "outputs": [],
   "source": [
    "plt.plot(r.history['loss'], label='loss')\n",
    "plt.plot(r.history['val_loss'], label='val_loss')\n",
    "plt.legend()"
   ]
  },
  {
   "cell_type": "code",
   "execution_count": null,
   "metadata": {
    "executionInfo": {
     "elapsed": 466,
     "status": "ok",
     "timestamp": 1733595216304,
     "user": {
      "displayName": "akara",
      "userId": "03294495074658875410"
     },
     "user_tz": -120
    },
    "id": "gsTUkqcwRl1i"
   },
   "outputs": [],
   "source": [
    "model.save('data')"
   ]
  }
 ],
 "metadata": {
  "colab": {
   "authorship_tag": "ABX9TyNMSa3wQ6aqvg/pbwbLm7AC",
   "mount_file_id": "1gOnZn0KEu67nIJYEbf75wlbI2eD43IKy",
   "provenance": []
  },
  "kernelspec": {
   "display_name": "Python 3",
   "name": "python3"
  },
  "language_info": {
   "name": "python"
  }
 },
 "nbformat": 4,
 "nbformat_minor": 0
}
